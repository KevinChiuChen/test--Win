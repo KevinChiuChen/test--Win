{
 "cells": [
  {
   "cell_type": "code",
   "execution_count": null,
   "id": "7a9a70e5-a374-4191-be56-e8f0eecd78ba",
   "metadata": {},
   "outputs": [
    {
     "name": "stdout",
     "output_type": "stream",
     "text": [
      " * Serving Flask app \"__main__\" (lazy loading)\n",
      " * Environment: production\n",
      "\u001b[31m   WARNING: This is a development server. Do not use it in a production deployment.\u001b[0m\n",
      "\u001b[2m   Use a production WSGI server instead.\u001b[0m\n",
      " * Debug mode: off\n"
     ]
    },
    {
     "name": "stderr",
     "output_type": "stream",
     "text": [
      " * Running on http://127.0.0.1:5000/ (Press CTRL+C to quit)\n",
      "127.0.0.1 - - [20/Oct/2022 13:42:52] \"GET / HTTP/1.1\" 200 -\n",
      "127.0.0.1 - - [20/Oct/2022 13:42:52] \"GET /favicon.ico HTTP/1.1\" 404 -\n",
      "127.0.0.1 - - [20/Oct/2022 13:46:20] \"GET /User/Kevin HTTP/1.1\" 200 -\n",
      "127.0.0.1 - - [20/Oct/2022 13:50:00] \"GET /User/10000 HTTP/1.1\" 200 -\n",
      "127.0.0.1 - - [20/Oct/2022 13:50:06] \"GET /User/Greg HTTP/1.1\" 200 -\n",
      "127.0.0.1 - - [20/Oct/2022 13:54:10] \"GET /User/Kevin HTTP/1.1\" 200 -\n"
     ]
    }
   ],
   "source": [
    "from flask import Flask\n",
    "app=Flask(__name__)\n",
    "\n",
    "\n",
    "#建立路徑/對應的處理函式\n",
    "@app.route(\"/\") #用來回應路徑/的處理函式\n",
    "\n",
    "def index():\n",
    "    return \"Hello world\" #回傳的內容\n",
    "\n",
    "@app.route(\"/shoe\")\n",
    "def shoe():\n",
    "    return \"Big shoes\"\n",
    "\n",
    "@app.route(\"/User/<username>\")\n",
    "def InputAsYouWish(username):\n",
    "    return \"Hello \" + username + \", Welcome\"\n",
    "\n",
    "\n",
    "app.run()"
   ]
  },
  {
   "cell_type": "code",
   "execution_count": null,
   "id": "7f1c26fa",
   "metadata": {},
   "outputs": [],
   "source": []
  }
 ],
 "metadata": {
  "kernelspec": {
   "display_name": "Python 3 (ipykernel)",
   "language": "python",
   "name": "python3"
  },
  "language_info": {
   "codemirror_mode": {
    "name": "ipython",
    "version": 3
   },
   "file_extension": ".py",
   "mimetype": "text/x-python",
   "name": "python",
   "nbconvert_exporter": "python",
   "pygments_lexer": "ipython3",
   "version": "3.9.13"
  }
 },
 "nbformat": 4,
 "nbformat_minor": 5
}
